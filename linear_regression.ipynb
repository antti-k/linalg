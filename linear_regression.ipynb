{
 "cells": [
  {
   "cell_type": "code",
   "execution_count": 1,
   "metadata": {},
   "outputs": [],
   "source": [
    "import numpy as np\n",
    "from matplotlib import pyplot as pl\n",
    "from scipy import stats"
   ]
  },
  {
   "cell_type": "code",
   "execution_count": 2,
   "metadata": {},
   "outputs": [
    {
     "name": "stdout",
     "output_type": "stream",
     "text": [
      "CPU times: user 1.21 ms, sys: 673 µs, total: 1.88 ms\n",
      "Wall time: 1.27 ms\n"
     ]
    }
   ],
   "source": [
    "%%time\n",
    "count = 10000\n",
    "#np.random.seed(42)\n",
    "\n",
    "# Generate data with random noise\n",
    "x = np.random.rand(count) * 10 \n",
    "#y = (np.random.rand() + .5) * x + 2 * np.random.rand(count) - 1 + 5 * np.random.rand()\n",
    "y = (.5 + np.random.rand()) * x + np.random.normal(0, 0.5, count) + 5 * np.random.rand()\n",
    "\n",
    "A = np.array([np.ones(count), x]).T"
   ]
  },
  {
   "cell_type": "code",
   "execution_count": 3,
   "metadata": {},
   "outputs": [
    {
     "name": "stdout",
     "output_type": "stream",
     "text": [
      "[3.14455913 1.09740731]\n",
      "CPU times: user 2.55 ms, sys: 2.08 ms, total: 4.62 ms\n",
      "Wall time: 4.8 ms\n"
     ]
    },
    {
     "name": "stderr",
     "output_type": "stream",
     "text": [
      "/usr/local/lib/python3.7/site-packages/ipykernel_launcher.py:1: FutureWarning: `rcond` parameter will change to the default of machine precision times ``max(M, N)`` where M and N are the input matrix dimensions.\n",
      "To use the future default and silence this warning we advise to pass `rcond=None`, to keep using the old, explicitly pass `rcond=-1`.\n",
      "  \"\"\"Entry point for launching an IPython kernel.\n"
     ]
    }
   ],
   "source": [
    "%%time\n",
    "b = np.linalg.lstsq(A, y)[0]\n",
    "print(b)\n"
   ]
  },
  {
   "cell_type": "code",
   "execution_count": 4,
   "metadata": {},
   "outputs": [
    {
     "name": "stdout",
     "output_type": "stream",
     "text": [
      "[3.14455913 1.09740731]\n",
      "CPU times: user 1.34 ms, sys: 1.49 ms, total: 2.83 ms\n",
      "Wall time: 2.77 ms\n"
     ]
    }
   ],
   "source": [
    "%%time\n",
    "b = np.linalg.inv(A.T.dot(A)).dot(A.T.dot(y))\n",
    "print(b)"
   ]
  },
  {
   "cell_type": "code",
   "execution_count": 5,
   "metadata": {},
   "outputs": [
    {
     "name": "stdout",
     "output_type": "stream",
     "text": [
      "[3.14455913 1.09740731]\n",
      "CPU times: user 1.7 ms, sys: 1.4 ms, total: 3.1 ms\n",
      "Wall time: 3.93 ms\n"
     ]
    }
   ],
   "source": [
    "%%time\n",
    "b = np.linalg.pinv(A.T.dot(A)).dot(A.T.dot(y))\n",
    "print(b)"
   ]
  },
  {
   "cell_type": "code",
   "execution_count": 6,
   "metadata": {},
   "outputs": [
    {
     "name": "stdout",
     "output_type": "stream",
     "text": [
      "[3.1445591320226605, 1.0974073116303305]\n",
      "CPU times: user 2.35 ms, sys: 1.71 ms, total: 4.06 ms\n",
      "Wall time: 4.17 ms\n"
     ]
    }
   ],
   "source": [
    "%%time\n",
    "slope, intercept, r_value, p_value, std_err = stats.linregress(x,y)\n",
    "b = [intercept, slope]\n",
    "print(b)"
   ]
  },
  {
   "cell_type": "code",
   "execution_count": 7,
   "metadata": {},
   "outputs": [
    {
     "data": {
      "image/png": "[encoded data removed]",
      "text/plain": [
       "<Figure size 432x288 with 1 Axes>"
      ]
     },
     "metadata": {
      "needs_background": "light"
     },
     "output_type": "display_data"
    }
   ],
   "source": [
    "line = b[1]*np.arange(0, 10) + b[0]\n",
    "pl.plot(line, '-')\n",
    "pl.plot(x, y, 'o')\n",
    "pl.title('Linear Regression')\n",
    "pl.xlabel('x')\n",
    "pl.ylabel('y')\n",
    "pl.show()"
   ]
  },
  {
   "cell_type": "code",
   "execution_count": null,
   "metadata": {},
   "outputs": [],
   "source": []
  }
 ],
 "metadata": {
  "kernelspec": {
   "display_name": "Python 3",
   "language": "python",
   "name": "python3"
  },
  "language_info": {
   "codemirror_mode": {
    "name": "ipython",
    "version": 3
   },
   "file_extension": ".py",
   "mimetype": "text/x-python",
   "name": "python",
   "nbconvert_exporter": "python",
   "pygments_lexer": "ipython3",
   "version": "3.7.1"
  }
 },
 "nbformat": 4,
 "nbformat_minor": 2
}
