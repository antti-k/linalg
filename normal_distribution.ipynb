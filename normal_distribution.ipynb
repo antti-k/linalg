{
 "cells": [
  {
   "cell_type": "code",
   "execution_count": 48,
   "metadata": {},
   "outputs": [],
   "source": [
    "import numpy as np\n",
    "from matplotlib import pyplot as pl\n",
    "from scipy import stats"
   ]
  },
  {
   "cell_type": "code",
   "execution_count": 37,
   "metadata": {
    "scrolled": true
   },
   "outputs": [
    {
     "name": "stdout",
     "output_type": "stream",
     "text": [
      "[ 0.74377694  0.55391426 -0.11142398 ...  0.07209067  0.17032631\n",
      "  0.6152783 ]\n"
     ]
    }
   ],
   "source": [
    "count = 10_000_000\n",
    "#x = np.random.normal(np.random.rand() - .5, np.random.normal(0, 0.5), count)\n",
    "x = np.random.normal(0, .5, count)\n",
    "\n",
    "print(x)"
   ]
  },
  {
   "cell_type": "code",
   "execution_count": 57,
   "metadata": {},
   "outputs": [
    {
     "name": "stdout",
     "output_type": "stream",
     "text": [
      "552 ms ± 75 ms per loop (mean ± std. dev. of 7 runs, 1 loop each)\n",
      "0.0002730285724467949\n",
      "0.4999946247684822\n",
      "0.0014924897200690398\n",
      "3.0011716256461014\n",
      "CPU times: user 3.94 s, sys: 204 ms, total: 4.14 s\n",
      "Wall time: 5.31 s\n"
     ]
    }
   ],
   "source": [
    "%%time\n",
    "mean = x.sum() / count\n",
    "#%timeit variance = np.square(x - mean).sum() / count\n",
    "variance = ((x - mean) ** 2).sum() / count\n",
    "stdev = variance ** .5\n",
    "skew = ((x - mean) ** 3).sum() / count / stdev ** 3\n",
    "%timeit kurtosis = ((x - mean) ** 4).sum() / count / stdev ** 4\n",
    "print(mean)\n",
    "print(stdev)\n",
    "print(skew)\n",
    "print(kurtosis)\n"
   ]
  },
  {
   "cell_type": "code",
   "execution_count": 59,
   "metadata": {},
   "outputs": [
    {
     "name": "stdout",
     "output_type": "stream",
     "text": [
      "239 ms ± 29.6 ms per loop (mean ± std. dev. of 7 runs, 1 loop each)\n",
      "3.0011716256461014\n"
     ]
    }
   ],
   "source": [
    "skew = stats.skew(x)\n",
    "%timeit kurtosis = stats.kurtosis(x)\n",
    "print(kurtosis)"
   ]
  },
  {
   "cell_type": "code",
   "execution_count": 16,
   "metadata": {},
   "outputs": [
    {
     "data": {
      "text/plain": [
       "[<matplotlib.lines.Line2D at 0x118e95668>]"
      ]
     },
     "execution_count": 16,
     "metadata": {},
     "output_type": "execute_result"
    },
    {
     "data": {
      "image/png": "[encoded data removed]",
      "text/plain": [
       "<Figure size 432x288 with 1 Axes>"
      ]
     },
     "metadata": {
      "needs_background": "light"
     },
     "output_type": "display_data"
    }
   ],
   "source": [
    "pl.plot(x, np.zeros(count), 'o')"
   ]
  }
 ],
 "metadata": {
  "kernelspec": {
   "display_name": "Python 3",
   "language": "python",
   "name": "python3"
  },
  "language_info": {
   "codemirror_mode": {
    "name": "ipython",
    "version": 3
   },
   "file_extension": ".py",
   "mimetype": "text/x-python",
   "name": "python",
   "nbconvert_exporter": "python",
   "pygments_lexer": "ipython3",
   "version": "3.7.1"
  }
 },
 "nbformat": 4,
 "nbformat_minor": 2
}
