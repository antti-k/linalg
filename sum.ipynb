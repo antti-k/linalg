{
 "cells": [
  {
   "cell_type": "code",
   "execution_count": 10,
   "metadata": {},
   "outputs": [],
   "source": [
    "import numpy as np\n",
    "import functools"
   ]
  },
  {
   "cell_type": "code",
   "execution_count": 6,
   "metadata": {},
   "outputs": [
    {
     "name": "stdout",
     "output_type": "stream",
     "text": [
      "for x in arr\n",
      "870 ms ± 65.3 ms per loop (mean ± std. dev. of 7 runs, 1 loop each)\n",
      "functools.reduce\n",
      "2.42 s ± 137 ms per loop (mean ± std. dev. of 7 runs, 1 loop each)\n",
      "dot\n",
      "29.3 ms ± 3.12 ms per loop (mean ± std. dev. of 7 runs, 10 loops each)\n",
      "49.6 ms ± 8.78 ms per loop (mean ± std. dev. of 7 runs, 10 loops each)\n",
      "sum\n",
      "112 ms ± 15 ms per loop (mean ± std. dev. of 7 runs, 10 loops each)\n",
      "numpy sum\n",
      "11.3 ms ± 633 µs per loop (mean ± std. dev. of 7 runs, 100 loops each)\n"
     ]
    }
   ],
   "source": [
    "a = np.random.rand(10_000_000)\n",
    "alist = a.tolist()\n",
    "print('for x in arr')\n",
    "def sum_of_array(arr):\n",
    "    total = 0\n",
    "    for x in arr:\n",
    "        total += x\n",
    "    return total\n",
    "    \n",
    "%timeit c = sum_of_array(alist)\n",
    "print('functools.reduce')\n",
    "%timeit c = functools.reduce((lambda x, y: x + y), alist)\n",
    "print('dot')\n",
    "%timeit np.ones(a.shape)\n",
    "%timeit b = np.ones(a.shape);c = a.dot(b)\n",
    "print('sum')\n",
    "%timeit c = sum(alist)\n",
    "print('numpy sum')\n",
    "%timeit c = a.sum()"
   ]
  }
 ],
 "metadata": {
  "kernelspec": {
   "display_name": "Python 3",
   "language": "python",
   "name": "python3"
  },
  "language_info": {
   "codemirror_mode": {
    "name": "ipython",
    "version": 3
   },
   "file_extension": ".py",
   "mimetype": "text/x-python",
   "name": "python",
   "nbconvert_exporter": "python",
   "pygments_lexer": "ipython3",
   "version": "3.7.1"
  }
 },
 "nbformat": 4,
 "nbformat_minor": 2
}
